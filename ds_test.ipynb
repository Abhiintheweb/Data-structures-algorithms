{
 "cells": [
  {
   "cell_type": "code",
   "execution_count": 65,
   "metadata": {},
   "outputs": [
    {
     "name": "stdout",
     "output_type": "stream",
     "text": [
      "1\n",
      "2\n",
      "3\n",
      "4\n"
     ]
    },
    {
     "data": {
      "text/plain": [
       "True"
      ]
     },
     "execution_count": 65,
     "metadata": {},
     "output_type": "execute_result"
    }
   ],
   "source": [
    "class Node(object):\n",
    "    def __init__(self, value,i):\n",
    "        self.value = value\n",
    "        self.left = None\n",
    "        self.right = None\n",
    "        self.index= i\n",
    "        \n",
    "def insert(root, value,i):\n",
    "    if not root:\n",
    "        return Node(value,i)\n",
    "    elif root.value == value:\n",
    "        root.count += 1\n",
    "    elif value < root.value:\n",
    "        root.left = insert(root.left, value,i)\n",
    "    else:\n",
    "        root.right = insert(root.right, value,i)\n",
    "\n",
    "    return root\n",
    "\n",
    "def create_tree(data):\n",
    "    root = None\n",
    "    for index,i in enumerate(data):\n",
    "        root = insert(root, i,index+1)\n",
    "\n",
    "    return root\n",
    "\n",
    "\n",
    "\n",
    "def print_tree(root):\n",
    "#     print root\n",
    "    if root:\n",
    "#         print root.left.root\n",
    "        final_data.append({\"value\":root.value,\"index\":root.index})\n",
    "        print root.value,root.index\n",
    "        print_tree(root.left)\n",
    "        \n",
    "        print_tree(root.right)\n",
    "#         \n",
    "\n",
    "\n",
    "\n",
    "\n",
    "def path_sum(node, s):\n",
    "   \n",
    "\n",
    "    if node is None:\n",
    "        return (s == 0)\n",
    " \n",
    "    else:\n",
    "        ans = 0\n",
    "         \n",
    "        \n",
    "        total_sum = s - node.value \n",
    "        print node.index\n",
    "        \n",
    "        if(total_sum == 0):\n",
    "            return True\n",
    " \n",
    "        if node.left is not None:\n",
    "            ans = ans or path_sum(node.left, total_sum)\n",
    "        if node.right is not None:\n",
    "            ans = ans or path_sum(node.right, total_sum)\n",
    "       \n",
    "        return ans \n",
    "\n",
    "data = [1,2,3,4,5,6,7]\n",
    "sum_value=10\n",
    "tree = create_tree(data)\n",
    "# print_tree(tree)\n",
    "\n",
    "path_sum(tree,sum_value)"
   ]
  },
  {
   "cell_type": "code",
   "execution_count": null,
   "metadata": {},
   "outputs": [],
   "source": []
  },
  {
   "cell_type": "code",
   "execution_count": null,
   "metadata": {},
   "outputs": [],
   "source": [
    "\\"
   ]
  },
  {
   "cell_type": "code",
   "execution_count": null,
   "metadata": {},
   "outputs": [],
   "source": []
  }
 ],
 "metadata": {
  "kernelspec": {
   "display_name": "Python 2",
   "language": "python",
   "name": "python2"
  },
  "language_info": {
   "codemirror_mode": {
    "name": "ipython",
    "version": 2
   },
   "file_extension": ".py",
   "mimetype": "text/x-python",
   "name": "python",
   "nbconvert_exporter": "python",
   "pygments_lexer": "ipython2",
   "version": "2.7.10"
  }
 },
 "nbformat": 4,
 "nbformat_minor": 2
}
