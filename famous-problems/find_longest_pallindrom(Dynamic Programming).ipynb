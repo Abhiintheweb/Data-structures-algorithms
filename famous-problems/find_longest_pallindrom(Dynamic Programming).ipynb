{
 "cells": [
  {
   "cell_type": "code",
   "execution_count": 53,
   "metadata": {},
   "outputs": [
    {
     "name": "stdout",
     "output_type": "stream",
     "text": [
      "[[0, 0, 0, 0, 0, 0], [0, 1, 1, 1, 1, 1], [0, 1, 2, 2, 2, 2], [0, 1, 2, 3, 3, 3], [0, 1, 2, 3, 4, 4], [0, 1, 2, 3, 4, 5]]\n",
      "5 5\n",
      "5 ===\n",
      "4 ===\n",
      "3 ===\n",
      "2 ===\n",
      "1 ===\n",
      "qabaq\n"
     ]
    }
   ],
   "source": [
    "s = 'qabaq'\n",
    "\n",
    "s1 = s[::-1]\n",
    "\n",
    "m  = len(s) + 1\n",
    "\n",
    "matrix  = [[0 for i in range(0,m)] for j in range(m)]\n",
    "\n",
    "\n",
    "for i in range(m):\n",
    "    for j in range(m):\n",
    "        \n",
    "        if i == 0 or j ==0:\n",
    "            matrix[i][j] = 0\n",
    "        elif s[i-1] ==s1[j-1]:\n",
    "            matrix[i][j] = 1 + matrix[i-1][j-1]\n",
    "        else:\n",
    "            matrix[i][j] = max( matrix[i][j-1],matrix[i-1][j])\n",
    "\n",
    "print(matrix)\n",
    "\n",
    "\n",
    "i= m-1\n",
    "j=m-1\n",
    "print(i,j)\n",
    "val = ''\n",
    "while i > 0 and j > 0:\n",
    "        no = matrix[i][j]\n",
    "        if no > matrix[i-1][j] and no :\n",
    "            j -=1\n",
    "            i-=1\n",
    "            val+=s1[j]\n",
    "        else:\n",
    "            i-=1\n",
    "print(val)\n",
    "    \n",
    "            \n",
    "\n",
    "    "
   ]
  },
  {
   "cell_type": "code",
   "execution_count": null,
   "metadata": {},
   "outputs": [],
   "source": []
  },
  {
   "cell_type": "code",
   "execution_count": null,
   "metadata": {},
   "outputs": [],
   "source": []
  },
  {
   "cell_type": "code",
   "execution_count": null,
   "metadata": {},
   "outputs": [],
   "source": []
  },
  {
   "cell_type": "code",
   "execution_count": null,
   "metadata": {},
   "outputs": [],
   "source": []
  },
  {
   "cell_type": "code",
   "execution_count": null,
   "metadata": {},
   "outputs": [],
   "source": []
  }
 ],
 "metadata": {
  "kernelspec": {
   "display_name": "Python 3",
   "language": "python",
   "name": "python3"
  },
  "language_info": {
   "codemirror_mode": {
    "name": "ipython",
    "version": 3
   },
   "file_extension": ".py",
   "mimetype": "text/x-python",
   "name": "python",
   "nbconvert_exporter": "python",
   "pygments_lexer": "ipython3",
   "version": "3.7.4"
  }
 },
 "nbformat": 4,
 "nbformat_minor": 2
}
